{
 "cells": [
  {
   "cell_type": "code",
   "execution_count": 1,
   "id": "11d34092",
   "metadata": {},
   "outputs": [],
   "source": [
    "import requests\n",
    "\n",
    "# Define the base URL for the API\n",
    "base_url = 'https://api.api-ninjas.com/v1/dogs?'\n",
    "\n",
    "\n"
   ]
  },
  {
   "cell_type": "code",
   "execution_count": 2,
   "id": "f9cfe25b",
   "metadata": {},
   "outputs": [
    {
     "name": "stdout",
     "output_type": "stream",
     "text": [
      "Enter the dog's breed (optional): \n",
      "Enter the minimum height in inches (optional): \n",
      "Enter the maximum height in inches (optional): \n",
      "Enter the minimum weight in pounds (optional): \n",
      "Enter the maximum weight in pounds (optional): \n",
      "Enter the minimum life expectancy in years (optional): \n",
      "Enter the maximum life expectancy in years (optional): \n",
      "Enter the shedding level (1-5) (optional): 5\n",
      "Enter the barking level (1-5) (optional): 5\n",
      "Enter the energy level (1-5) (optional): \n",
      "Enter the protectiveness level (1-5) (optional): 3\n",
      "Enter the trainability level (1-5) (optional): 2\n",
      "Enter the offset for pagination (optional): \n"
     ]
    }
   ],
   "source": [
    "# Construct the query parameters based on user input\n",
    "params = {\n",
    "    'name': input(\"Enter the dog's breed (optional): \"),\n",
    "    'min_height': input(\"Enter the minimum height in inches (optional): \"),\n",
    "    'max_height': input(\"Enter the maximum height in inches (optional): \"),\n",
    "    'min_weight': input(\"Enter the minimum weight in pounds (optional): \"),\n",
    "    'max_weight': input(\"Enter the maximum weight in pounds (optional): \"),\n",
    "    'min_life_expectancy': input(\"Enter the minimum life expectancy in years (optional): \"),\n",
    "    'max_life_expectancy': input(\"Enter the maximum life expectancy in years (optional): \"),\n",
    "    'shedding': input(\"Enter the shedding level (1-5) (optional): \"),\n",
    "    'barking': input(\"Enter the barking level (1-5) (optional): \"),\n",
    "    'energy': input(\"Enter the energy level (1-5) (optional): \"),\n",
    "    'protectiveness': input(\"Enter the protectiveness level (1-5) (optional): \"),\n",
    "    'trainability': input(\"Enter the trainability level (1-5) (optional): \"),\n",
    "    'offset': input(\"Enter the offset for pagination (optional): \")\n",
    "}\n",
    "\n"
   ]
  },
  {
   "cell_type": "code",
   "execution_count": 3,
   "id": "96509a52",
   "metadata": {},
   "outputs": [
    {
     "name": "stdout",
     "output_type": "stream",
     "text": [
      "[]\n"
     ]
    }
   ],
   "source": [
    "# Construct the API URL with query parameters\n",
    "api_url = base_url + '&'.join([f'{key}={value}' for key, value in params.items()])\n",
    "\n",
    "# Make the request to the API\n",
    "response = requests.get(api_url, headers={'X-Api-Key': '9LkCcmGFh3C8Pz6B1PR1CA==QJngCyg1iIL7vtaz'})\n",
    "\n",
    "# Check if the request was successful\n",
    "if response.status_code == requests.codes.ok:\n",
    "    print(response.text)\n",
    "else:\n",
    "    print(\"Error:\", response.status_code, response.text)\n"
   ]
  },
  {
   "cell_type": "code",
   "execution_count": null,
   "id": "180dacf2",
   "metadata": {},
   "outputs": [],
   "source": []
  }
 ],
 "metadata": {
  "kernelspec": {
   "display_name": "Python 3 (ipykernel)",
   "language": "python",
   "name": "python3"
  },
  "language_info": {
   "codemirror_mode": {
    "name": "ipython",
    "version": 3
   },
   "file_extension": ".py",
   "mimetype": "text/x-python",
   "name": "python",
   "nbconvert_exporter": "python",
   "pygments_lexer": "ipython3",
   "version": "3.11.5"
  }
 },
 "nbformat": 4,
 "nbformat_minor": 5
}
