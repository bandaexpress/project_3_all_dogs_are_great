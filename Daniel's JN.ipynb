{
 "cells": [
  {
   "cell_type": "code",
   "execution_count": 2,
   "id": "11d34092",
   "metadata": {},
   "outputs": [],
   "source": [
    "import requests\n",
    "\n",
    "# Define the base URL for the API\n",
    "base_url = 'https://api.api-ninjas.com/v1/dogs?'\n",
    "\n",
    "\n"
   ]
  },
  {
   "cell_type": "code",
   "execution_count": 6,
   "id": "4d257dff",
   "metadata": {},
   "outputs": [
    {
     "name": "stdout",
     "output_type": "stream",
     "text": [
      "Enter the dog's breed (optional): \n",
      "Enter the minimum height in inches (optional): \n",
      "Enter the maximum height in inches (optional): \n",
      "Enter the minimum weight in pounds (optional): \n",
      "Enter the maximum weight in pounds (optional): \n",
      "Enter the minimum life expectancy in years (optional): \n",
      "Enter the maximum life expectancy in years (optional): \n",
      "Enter the shedding level (1-5) (optional): \n",
      "Enter the barking level (1-5) (optional): 5\n",
      "Enter the energy level (1-5) (optional): \n",
      "Enter the protectiveness level (1-5) (optional): \n",
      "Enter the trainability level (1-5) (optional): \n",
      "Enter the offset for pagination (optional): \n"
     ]
    }
   ],
   "source": [
    "# Ask the user for input\n",
    "name = input(\"Enter the dog's breed (optional): \").strip()\n",
    "min_height = input(\"Enter the minimum height in inches (optional): \").strip()\n",
    "max_height = input(\"Enter the maximum height in inches (optional): \").strip()\n",
    "min_weight = input(\"Enter the minimum weight in pounds (optional): \").strip()\n",
    "max_weight = input(\"Enter the maximum weight in pounds (optional): \").strip()\n",
    "min_life_expectancy = input(\"Enter the minimum life expectancy in years (optional): \").strip()\n",
    "max_life_expectancy = input(\"Enter the maximum life expectancy in years (optional): \").strip()\n",
    "shedding = input(\"Enter the shedding level (1-5) (optional): \").strip()\n",
    "barking = input(\"Enter the barking level (1-5) (optional): \").strip()\n",
    "energy = input(\"Enter the energy level (1-5) (optional): \").strip()\n",
    "protectiveness = input(\"Enter the protectiveness level (1-5) (optional): \").strip()\n",
    "trainability = input(\"Enter the trainability level (1-5) (optional): \").strip()\n",
    "offset = input(\"Enter the offset for pagination (optional): \").strip()\n"
   ]
  },
  {
   "cell_type": "code",
   "execution_count": 7,
   "id": "f9cfe25b",
   "metadata": {},
   "outputs": [],
   "source": [
    "# Construct the query parameters based on user input\n",
    "params = {}\n",
    "if name:\n",
    "    params['name'] = name\n",
    "if min_height:\n",
    "    params['min_height'] = min_height\n",
    "if max_height:\n",
    "    params['max_height'] = max_height\n",
    "if min_weight:\n",
    "    params['min_weight'] = min_weight\n",
    "if max_weight:\n",
    "    params['max_weight'] = max_weight\n",
    "if min_life_expectancy:\n",
    "    params['min_life_expectancy'] = min_life_expectancy\n",
    "if max_life_expectancy:\n",
    "    params['max_life_expectancy'] = max_life_expectancy\n",
    "if shedding:\n",
    "    params['shedding'] = shedding\n",
    "if barking:\n",
    "    params['barking'] = barking\n",
    "if energy:\n",
    "    params['energy'] = energy\n",
    "if protectiveness:\n",
    "    params['protectiveness'] = protectiveness\n",
    "if trainability:\n",
    "    params['trainability'] = trainability\n",
    "if offset:\n",
    "    params['offset'] = offset\n"
   ]
  },
  {
   "cell_type": "code",
   "execution_count": 8,
   "id": "96509a52",
   "metadata": {},
   "outputs": [
    {
     "name": "stdout",
     "output_type": "stream",
     "text": [
      "[{\"image_link\": \"https://api-ninjas.com/images/dogs/american_foxhound.jpg\", \"good_with_children\": 5, \"good_with_other_dogs\": 5, \"shedding\": 3, \"grooming\": 1, \"drooling\": 1, \"coat_length\": 1, \"good_with_strangers\": 3, \"playfulness\": 3, \"protectiveness\": 3, \"trainability\": 3, \"energy\": 4, \"barking\": 5, \"min_life_expectancy\": 11.0, \"max_life_expectancy\": 13.0, \"max_height_male\": 25.0, \"max_height_female\": 25.0, \"max_weight_male\": 70.0, \"max_weight_female\": 65.0, \"min_height_male\": 22.0, \"min_height_female\": 22.0, \"min_weight_male\": 65.0, \"min_weight_female\": 60.0, \"name\": \"American Foxhound\"}, {\"image_link\": \"https://api-ninjas.com/images/dogs/australian_terrier.jpg\", \"good_with_children\": 5, \"good_with_other_dogs\": 3, \"shedding\": 1, \"grooming\": 2, \"drooling\": 1, \"coat_length\": 1, \"good_with_strangers\": 3, \"playfulness\": 4, \"protectiveness\": 4, \"trainability\": 4, \"energy\": 4, \"barking\": 5, \"min_life_expectancy\": 11.0, \"max_life_expectancy\": 15.0, \"max_height_male\": 11.0, \"max_height_female\": 11.0, \"max_weight_male\": 20.0, \"max_weight_female\": 20.0, \"min_height_male\": 10.0, \"min_height_female\": 10.0, \"min_weight_male\": 15.0, \"min_weight_female\": 15.0, \"name\": \"Australian Terrier\"}, {\"image_link\": \"https://api-ninjas.com/images/dogs/barbado_da_terceira.jpg\", \"good_with_children\": 4, \"good_with_other_dogs\": 3, \"shedding\": 1, \"coat_length\": 1, \"trainability\": 5, \"energy\": 5, \"barking\": 5, \"min_life_expectancy\": 12.0, \"max_life_expectancy\": 14.0, \"max_height_male\": 22.0, \"max_height_female\": 22.0, \"max_weight_male\": 60.0, \"max_weight_female\": 57.0, \"min_height_male\": 20.5, \"min_height_female\": 20.5, \"min_weight_male\": 55.0, \"min_weight_female\": 46.0, \"grooming\": 0, \"drooling\": 0, \"good_with_strangers\": 0, \"playfulness\": 0, \"protectiveness\": 0, \"name\": \"Barbado da Terceira\"}, {\"image_link\": \"https://api-ninjas.com/images/dogs/bearded_collie.jpg\", \"good_with_children\": 5, \"good_with_other_dogs\": 5, \"shedding\": 3, \"grooming\": 4, \"drooling\": 1, \"coat_length\": 1, \"good_with_strangers\": 4, \"playfulness\": 4, \"protectiveness\": 3, \"trainability\": 3, \"energy\": 4, \"barking\": 5, \"min_life_expectancy\": 12.0, \"max_life_expectancy\": 14.0, \"max_height_male\": 22.0, \"max_height_female\": 22.0, \"max_weight_male\": 55.0, \"max_weight_female\": 55.0, \"min_height_male\": 21.0, \"min_height_female\": 21.0, \"min_weight_male\": 45.0, \"min_weight_female\": 45.0, \"name\": \"Bearded Collie\"}, {\"image_link\": \"https://api-ninjas.com/images/dogs/bloodhound.jpg\", \"good_with_children\": 3, \"good_with_other_dogs\": 3, \"shedding\": 3, \"grooming\": 2, \"drooling\": 5, \"coat_length\": 1, \"good_with_strangers\": 3, \"playfulness\": 3, \"protectiveness\": 2, \"trainability\": 4, \"energy\": 3, \"barking\": 5, \"min_life_expectancy\": 10.0, \"max_life_expectancy\": 12.0, \"max_height_male\": 27.0, \"max_height_female\": 27.0, \"max_weight_male\": 110.0, \"max_weight_female\": 100.0, \"min_height_male\": 25.0, \"min_height_female\": 25.0, \"min_weight_male\": 90.0, \"min_weight_female\": 80.0, \"name\": \"Bloodhound\"}, {\"image_link\": \"https://api-ninjas.com/images/dogs/canaan_dog.jpg\", \"good_with_children\": 3, \"good_with_other_dogs\": 3, \"shedding\": 4, \"grooming\": 2, \"drooling\": 1, \"coat_length\": 1, \"good_with_strangers\": 3, \"playfulness\": 3, \"protectiveness\": 4, \"trainability\": 4, \"energy\": 3, \"barking\": 5, \"min_life_expectancy\": 12.0, \"max_life_expectancy\": 15.0, \"max_height_male\": 24.0, \"max_height_female\": 24.0, \"max_weight_male\": 55.0, \"max_weight_female\": 45.0, \"min_height_male\": 20.0, \"min_height_female\": 20.0, \"min_weight_male\": 45.0, \"min_weight_female\": 35.0, \"name\": \"Canaan Dog\"}, {\"image_link\": \"https://api-ninjas.com/images/dogs/cardigan_welsh_corgi.jpg\", \"good_with_children\": 4, \"good_with_other_dogs\": 3, \"shedding\": 3, \"grooming\": 2, \"drooling\": 1, \"coat_length\": 1, \"good_with_strangers\": 4, \"playfulness\": 4, \"protectiveness\": 3, \"trainability\": 4, \"energy\": 4, \"barking\": 5, \"min_life_expectancy\": 12.0, \"max_life_expectancy\": 15.0, \"max_height_male\": 12.5, \"max_height_female\": 12.5, \"max_weight_male\": 38.0, \"max_weight_female\": 34.0, \"min_height_male\": 10.5, \"min_height_female\": 10.5, \"min_weight_male\": 30.0, \"min_weight_female\": 25.0, \"name\": \"Cardigan Welsh Corgi\"}, {\"image_link\": \"https://api-ninjas.com/images/dogs/chihuahua.jpg\", \"good_with_children\": 1, \"good_with_other_dogs\": 3, \"shedding\": 2, \"grooming\": 1, \"drooling\": 1, \"coat_length\": 2, \"good_with_strangers\": 2, \"playfulness\": 4, \"protectiveness\": 4, \"trainability\": 3, \"energy\": 4, \"barking\": 5, \"min_life_expectancy\": 14.0, \"max_life_expectancy\": 16.0, \"max_height_male\": 8.0, \"max_height_female\": 8.0, \"max_weight_male\": 6.0, \"max_weight_female\": 6.0, \"min_height_male\": 5.0, \"min_height_female\": 5.0, \"min_weight_male\": 4.0, \"min_weight_female\": 4.0, \"name\": \"Chihuahua\"}, {\"image_link\": \"https://api-ninjas.com/images/dogs/chinook.jpg\", \"good_with_children\": 5, \"good_with_other_dogs\": 5, \"shedding\": 3, \"grooming\": 3, \"drooling\": 1, \"coat_length\": 1, \"good_with_strangers\": 3, \"playfulness\": 3, \"protectiveness\": 4, \"trainability\": 4, \"energy\": 3, \"barking\": 5, \"min_life_expectancy\": 12.0, \"max_life_expectancy\": 15.0, \"max_height_male\": 26.0, \"max_height_female\": 26.0, \"max_weight_male\": 90.0, \"max_weight_female\": 65.0, \"min_height_male\": 24.0, \"min_height_female\": 24.0, \"min_weight_male\": 55.0, \"min_weight_female\": 50.0, \"name\": \"Chinook\"}, {\"image_link\": \"https://api-ninjas.com/images/dogs/collie.jpg\", \"good_with_children\": 5, \"good_with_other_dogs\": 3, \"shedding\": 3, \"grooming\": 3, \"drooling\": 2, \"coat_length\": 2, \"good_with_strangers\": 3, \"playfulness\": 4, \"protectiveness\": 3, \"trainability\": 4, \"energy\": 3, \"barking\": 5, \"min_life_expectancy\": 12.0, \"max_life_expectancy\": 14.0, \"max_height_male\": 26.0, \"max_height_female\": 26.0, \"max_weight_male\": 75.0, \"max_weight_female\": 65.0, \"min_height_male\": 24.0, \"min_height_female\": 24.0, \"min_weight_male\": 60.0, \"min_weight_female\": 50.0, \"name\": \"Collie\"}, {\"image_link\": \"https://api-ninjas.com/images/dogs/dachshund.jpg\", \"good_with_children\": 3, \"good_with_other_dogs\": 4, \"shedding\": 2, \"grooming\": 2, \"drooling\": 2, \"coat_length\": 2, \"good_with_strangers\": 4, \"playfulness\": 4, \"protectiveness\": 4, \"trainability\": 4, \"energy\": 3, \"barking\": 5, \"min_life_expectancy\": 12.0, \"max_life_expectancy\": 16.0, \"max_height_male\": 9.0, \"max_height_female\": 9.0, \"max_weight_male\": 32.0, \"max_weight_female\": 32.0, \"min_height_male\": 8.0, \"min_height_female\": 8.0, \"min_weight_male\": 16.0, \"min_weight_female\": 16.0, \"name\": \"Dachshund\"}, {\"image_link\": \"https://api-ninjas.com/images/dogs/english_foxhound.jpg\", \"good_with_children\": 5, \"good_with_other_dogs\": 5, \"shedding\": 3, \"grooming\": 1, \"drooling\": 2, \"coat_length\": 1, \"good_with_strangers\": 4, \"playfulness\": 4, \"protectiveness\": 3, \"trainability\": 4, \"energy\": 4, \"barking\": 5, \"min_life_expectancy\": 10.0, \"max_life_expectancy\": 13.0, \"max_height_male\": 24.0, \"max_height_female\": 24.0, \"max_weight_male\": 75.0, \"max_weight_female\": 75.0, \"min_height_male\": 24.0, \"min_height_female\": 24.0, \"min_weight_male\": 60.0, \"min_weight_female\": 60.0, \"name\": \"English Foxhound\"}, {\"image_link\": \"https://api-ninjas.com/images/dogs/finnish_lapphund.jpg\", \"good_with_children\": 4, \"good_with_other_dogs\": 3, \"shedding\": 4, \"grooming\": 2, \"drooling\": 2, \"coat_length\": 1, \"good_with_strangers\": 4, \"playfulness\": 3, \"protectiveness\": 3, \"trainability\": 4, \"energy\": 3, \"barking\": 5, \"min_life_expectancy\": 12.0, \"max_life_expectancy\": 15.0, \"max_height_male\": 21.0, \"max_height_female\": 21.0, \"max_weight_male\": 53.0, \"max_weight_female\": 53.0, \"min_height_male\": 18.0, \"min_height_female\": 18.0, \"min_weight_male\": 33.0, \"min_weight_female\": 33.0, \"name\": \"Finnish Lapphund\"}, {\"image_link\": \"https://api-ninjas.com/images/dogs/finnish_spitz.jpg\", \"good_with_children\": 5, \"good_with_other_dogs\": 4, \"shedding\": 3, \"grooming\": 2, \"drooling\": 2, \"coat_length\": 1, \"good_with_strangers\": 3, \"playfulness\": 3, \"protectiveness\": 3, \"trainability\": 3, \"energy\": 5, \"barking\": 5, \"min_life_expectancy\": 13.0, \"max_life_expectancy\": 15.0, \"max_height_male\": 20.0, \"max_height_female\": 20.0, \"max_weight_male\": 33.0, \"max_weight_female\": 28.0, \"min_height_male\": 17.5, \"min_height_female\": 17.5, \"min_weight_male\": 25.0, \"min_weight_female\": 20.0, \"name\": \"Finnish Spitz\"}, {\"image_link\": \"https://api-ninjas.com/images/dogs/german_spitz.jpg\", \"good_with_children\": 3, \"good_with_other_dogs\": 4, \"shedding\": 3, \"grooming\": 3, \"drooling\": 2, \"coat_length\": 1, \"good_with_strangers\": 4, \"playfulness\": 4, \"protectiveness\": 3, \"trainability\": 5, \"energy\": 3, \"barking\": 5, \"min_life_expectancy\": 13.0, \"max_life_expectancy\": 15.0, \"max_height_male\": 15.0, \"max_height_female\": 15.0, \"max_weight_male\": 26.0, \"max_weight_female\": 26.0, \"min_height_male\": 12.0, \"min_height_female\": 12.0, \"min_weight_male\": 24.0, \"min_weight_female\": 24.0, \"name\": \"German Spitz\"}, {\"image_link\": \"https://api-ninjas.com/images/dogs/harrier.jpg\", \"good_with_children\": 5, \"good_with_other_dogs\": 5, \"shedding\": 3, \"grooming\": 1, \"drooling\": 2, \"coat_length\": 1, \"good_with_strangers\": 4, \"playfulness\": 4, \"protectiveness\": 3, \"trainability\": 4, \"energy\": 4, \"barking\": 5, \"min_life_expectancy\": 12.0, \"max_life_expectancy\": 15.0, \"max_height_male\": 21.0, \"max_height_female\": 21.0, \"max_weight_male\": 60.0, \"max_weight_female\": 60.0, \"min_height_male\": 19.0, \"min_height_female\": 19.0, \"min_weight_male\": 45.0, \"min_weight_female\": 45.0, \"name\": \"Harrier\"}, {\"image_link\": \"https://api-ninjas.com/images/dogs/miniature_bull_terrier.jpg\", \"good_with_children\": 3, \"good_with_other_dogs\": 3, \"shedding\": 2, \"grooming\": 1, \"drooling\": 2, \"coat_length\": 1, \"good_with_strangers\": 3, \"playfulness\": 4, \"protectiveness\": 4, \"trainability\": 3, \"energy\": 4, \"barking\": 5, \"min_life_expectancy\": 11.0, \"max_life_expectancy\": 13.0, \"max_height_male\": 14.0, \"max_height_female\": 14.0, \"max_weight_male\": 28.0, \"max_weight_female\": 28.0, \"min_height_male\": 10.0, \"min_height_female\": 10.0, \"min_weight_male\": 18.0, \"min_weight_female\": 18.0, \"name\": \"Miniature Bull Terrier\"}, {\"image_link\": \"https://api-ninjas.com/images/dogs/miniature_pinscher.jpg\", \"good_with_children\": 3, \"good_with_other_dogs\": 4, \"shedding\": 3, \"grooming\": 1, \"drooling\": 1, \"coat_length\": 1, \"good_with_strangers\": 3, \"playfulness\": 4, \"protectiveness\": 5, \"trainability\": 3, \"energy\": 5, \"barking\": 5, \"min_life_expectancy\": 12.0, \"max_life_expectancy\": 16.0, \"max_height_male\": 12.5, \"max_height_female\": 12.5, \"max_weight_male\": 10.0, \"max_weight_female\": 10.0, \"min_height_male\": 10.0, \"min_height_female\": 10.0, \"min_weight_male\": 8.0, \"min_weight_female\": 8.0, \"name\": \"Miniature Pinscher\"}, {\"image_link\": \"https://api-ninjas.com/images/dogs/miniature_schnauzer.jpg\", \"good_with_children\": 5, \"good_with_other_dogs\": 3, \"shedding\": 3, \"grooming\": 4, \"drooling\": 2, \"coat_length\": 1, \"good_with_strangers\": 3, \"playfulness\": 4, \"protectiveness\": 4, \"trainability\": 5, \"energy\": 3, \"barking\": 5, \"min_life_expectancy\": 12.0, \"max_life_expectancy\": 15.0, \"max_height_male\": 14.0, \"max_height_female\": 14.0, \"max_weight_male\": 20.0, \"max_weight_female\": 20.0, \"min_height_male\": 12.0, \"min_height_female\": 12.0, \"min_weight_male\": 11.0, \"min_weight_female\": 11.0, \"name\": \"Miniature Schnauzer\"}, {\"image_link\": \"https://api-ninjas.com/images/dogs/otterhound.jpg\", \"good_with_children\": 3, \"good_with_other_dogs\": 3, \"shedding\": 2, \"grooming\": 2, \"drooling\": 3, \"coat_length\": 1, \"good_with_strangers\": 4, \"playfulness\": 3, \"protectiveness\": 3, \"trainability\": 4, \"energy\": 3, \"barking\": 5, \"min_life_expectancy\": 10.0, \"max_life_expectancy\": 13.0, \"max_height_male\": 27.0, \"max_height_female\": 27.0, \"max_weight_male\": 115.0, \"max_weight_female\": 80.0, \"min_height_male\": 27.0, \"min_height_female\": 27.0, \"min_weight_male\": 115.0, \"min_weight_female\": 80.0, \"name\": \"Otterhound\"}]\n"
     ]
    }
   ],
   "source": [
    "# Construct the API URL with query parameters\n",
    "api_url = base_url + '&'.join([f'{key}={value}' for key, value in params.items()])\n",
    "\n",
    "# Make the request to the API\n",
    "response = requests.get(api_url, headers={'X-Api-Key': '9LkCcmGFh3C8Pz6B1PR1CA==QJngCyg1iIL7vtaz'})\n",
    "\n",
    "# Check if the request was successful\n",
    "if response.status_code == requests.codes.ok:\n",
    "    print(response.text)\n",
    "else:\n",
    "    print(\"Error:\", response.status_code, response.text)\n"
   ]
  },
  {
   "cell_type": "code",
   "execution_count": null,
   "id": "180dacf2",
   "metadata": {},
   "outputs": [],
   "source": []
  }
 ],
 "metadata": {
  "kernelspec": {
   "display_name": "Python 3 (ipykernel)",
   "language": "python",
   "name": "python3"
  },
  "language_info": {
   "codemirror_mode": {
    "name": "ipython",
    "version": 3
   },
   "file_extension": ".py",
   "mimetype": "text/x-python",
   "name": "python",
   "nbconvert_exporter": "python",
   "pygments_lexer": "ipython3",
   "version": "3.11.5"
  }
 },
 "nbformat": 4,
 "nbformat_minor": 5
}
