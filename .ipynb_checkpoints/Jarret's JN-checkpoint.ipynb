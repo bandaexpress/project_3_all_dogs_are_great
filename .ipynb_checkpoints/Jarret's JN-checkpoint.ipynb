{
 "cells": [
  {
   "cell_type": "code",
   "execution_count": 2,
   "id": "c3381a2d",
   "metadata": {},
   "outputs": [
    {
     "name": "stdout",
     "output_type": "stream",
     "text": [
      "[{\"image_link\": \"https://api-ninjas.com/images/dogs/golden_retriever.jpg\", \"good_with_children\": 5, \"good_with_other_dogs\": 5, \"shedding\": 4, \"grooming\": 2, \"drooling\": 2, \"coat_length\": 1, \"good_with_strangers\": 5, \"playfulness\": 4, \"protectiveness\": 3, \"trainability\": 5, \"energy\": 3, \"barking\": 1, \"min_life_expectancy\": 10.0, \"max_life_expectancy\": 12.0, \"max_height_male\": 24.0, \"max_height_female\": 24.0, \"max_weight_male\": 75.0, \"max_weight_female\": 65.0, \"min_height_male\": 23.0, \"min_height_female\": 23.0, \"min_weight_male\": 65.0, \"min_weight_female\": 55.0, \"name\": \"Golden Retriever\"}]\n"
     ]
    }
   ],
   "source": [
    "import requests\n",
    "name = 'golden retriever'\n",
    "api_url = 'https://api.api-ninjas.com/v1/dogs?name={}'.format(name)\n",
    "response = requests.get(api_url, headers={'X-Api-Key': '9LkCcmGFh3C8Pz6B1PR1CA==QJngCyg1iIL7vtaz'})\n",
    "if response.status_code == requests.codes.ok:\n",
    "    print(response.text)\n",
    "else:\n",
    "    print(\"Error:\", response.status_code, response.text)"
   ]
  },
  {
   "cell_type": "code",
   "execution_count": null,
   "id": "e8770533",
   "metadata": {},
   "outputs": [],
   "source": []
  }
 ],
 "metadata": {
  "kernelspec": {
   "display_name": "Python 3 (ipykernel)",
   "language": "python",
   "name": "python3"
  },
  "language_info": {
   "codemirror_mode": {
    "name": "ipython",
    "version": 3
   },
   "file_extension": ".py",
   "mimetype": "text/x-python",
   "name": "python",
   "nbconvert_exporter": "python",
   "pygments_lexer": "ipython3",
   "version": "3.11.5"
  }
 },
 "nbformat": 4,
 "nbformat_minor": 5
}
